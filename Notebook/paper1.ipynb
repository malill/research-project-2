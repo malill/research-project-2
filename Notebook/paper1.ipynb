{
 "cells": [
  {
   "cell_type": "code",
   "execution_count": 25,
   "metadata": {
    "collapsed": true
   },
   "outputs": [],
   "source": [
    "import pandas as pd\n",
    "\n",
    "df_org = pd.read_csv(f'../../data/paper1/click_behavior.csv')\n",
    "df = pd.read_csv(f'../../data/paper1/click_behavior_processed.csv')"
   ]
  },
  {
   "cell_type": "code",
   "execution_count": 26,
   "outputs": [
    {
     "data": {
      "text/plain": "group\ncontrol      1309\ntreatment    1262\nName: user_uid, dtype: int64"
     },
     "execution_count": 26,
     "metadata": {},
     "output_type": "execute_result"
    }
   ],
   "source": [
    "df.groupby('group')['user_uid'].nunique()"
   ],
   "metadata": {
    "collapsed": false,
    "pycharm": {
     "name": "#%%\n"
    }
   }
  },
  {
   "cell_type": "code",
   "execution_count": 36,
   "outputs": [
    {
     "data": {
      "text/plain": "user_uid\n6222885b81ece9c26d146eff      1\n623233ac293d0bcb0428f45a      1\n62323174293d0bcb0424a56b      1\n623226a2293d0bcb040eb050      1\n62322667293d0bcb040e20ab      1\n                           ... \n6237f0d6754b95fa050ca11d     83\n6232bdd9eebc96df32cda7d7     93\n6233daf067052435d3a8cb34    211\n6222950081ece9c26d2c4931    236\n62384c29754b95fa05ac9d3c    275\nName: click, Length: 2571, dtype: int64"
     },
     "execution_count": 36,
     "metadata": {},
     "output_type": "execute_result"
    }
   ],
   "source": [
    "df.groupby(['user_uid'])['click'].count().sort_values()"
   ],
   "metadata": {
    "collapsed": false,
    "pycharm": {
     "name": "#%%\n"
    }
   }
  },
  {
   "cell_type": "code",
   "execution_count": 42,
   "outputs": [
    {
     "data": {
      "text/plain": "                     user_uid    group  is_mobile  focal_item  click_item  \\\n15   6222950081ece9c26d2c4931  control          0         419           0   \n16   6222950081ece9c26d2c4931  control          0         421           0   \n17   6222950081ece9c26d2c4931  control          0         421           0   \n18   6222950081ece9c26d2c4931  control          0         444           0   \n19   6222950081ece9c26d2c4931  control          0         446           0   \n..                        ...      ...        ...         ...         ...   \n246  6222950081ece9c26d2c4931  control          1        1287           0   \n247  6222950081ece9c26d2c4931  control          1        1300           0   \n248  6222950081ece9c26d2c4931  control          1        1300           0   \n249  6222950081ece9c26d2c4931  control          1        1318           0   \n250  6222950081ece9c26d2c4931  control          1        1319           0   \n\n     click  click_pos  reco_item1  reco_item2  reco_item3  ...  c_r_cat  \\\n15       0          0         420         642         483  ...      NaN   \n16       0          0        1035        1269         587  ...      NaN   \n17       0          0         497         740         722  ...      NaN   \n18       0          0         462        1176         593  ...      NaN   \n19       0          0         521        1113        1096  ...      NaN   \n..     ...        ...         ...         ...         ...  ...      ...   \n246      0          0        1086        1205         678  ...      NaN   \n247      0          0         425         785         473  ...      NaN   \n248      0          0         937        1193         527  ...      NaN   \n249      0          0         640         516         753  ...      NaN   \n250      0          0        1295        1177         673  ...      NaN   \n\n     f_r1_price  f_r2_price  f_r3_price f_r_price r_price_mean f_r1_img  \\\n15          0.9       -31.0         0.0 -10.03333        13.93  0.54717   \n16        -22.0       -29.0        -9.1 -20.03333        25.93  0.00000   \n17         -2.1        -9.1       -14.0  -8.40000        14.30  0.00000   \n18          2.0       -44.9         2.0 -13.63333        23.63  0.00000   \n19         23.0         5.0       -40.0  -4.00000        33.90  0.00000   \n..          ...         ...         ...       ...          ...      ...   \n246        35.9        29.9        15.0  26.93333        17.97  0.00000   \n247        19.1        10.1        27.0  18.73333        16.27  0.00000   \n248       -27.9         5.1        25.0   0.73333        34.27  0.71157   \n249       -15.2        12.7        16.7   4.73333        19.97  0.00000   \n250      -154.1       -25.0        10.0 -56.36667        81.27  0.00000   \n\n    f_r2_img  f_r3_img   f_r_img  \n15   0.00000   0.00000  0.182390  \n16   0.00000   0.72028  0.240093  \n17   0.63683   0.69214  0.442990  \n18   0.00000   0.00000  0.000000  \n19   0.00000   0.00000  0.000000  \n..       ...       ...       ...  \n246  0.00000   0.00000  0.000000  \n247  0.72832   0.00000  0.242773  \n248  0.00000   0.00000  0.237190  \n249  0.00000   0.48219  0.160730  \n250  0.00000   0.00000  0.000000  \n\n[236 rows x 35 columns]",
      "text/html": "<div>\n<style scoped>\n    .dataframe tbody tr th:only-of-type {\n        vertical-align: middle;\n    }\n\n    .dataframe tbody tr th {\n        vertical-align: top;\n    }\n\n    .dataframe thead th {\n        text-align: right;\n    }\n</style>\n<table border=\"1\" class=\"dataframe\">\n  <thead>\n    <tr style=\"text-align: right;\">\n      <th></th>\n      <th>user_uid</th>\n      <th>group</th>\n      <th>is_mobile</th>\n      <th>focal_item</th>\n      <th>click_item</th>\n      <th>click</th>\n      <th>click_pos</th>\n      <th>reco_item1</th>\n      <th>reco_item2</th>\n      <th>reco_item3</th>\n      <th>...</th>\n      <th>c_r_cat</th>\n      <th>f_r1_price</th>\n      <th>f_r2_price</th>\n      <th>f_r3_price</th>\n      <th>f_r_price</th>\n      <th>r_price_mean</th>\n      <th>f_r1_img</th>\n      <th>f_r2_img</th>\n      <th>f_r3_img</th>\n      <th>f_r_img</th>\n    </tr>\n  </thead>\n  <tbody>\n    <tr>\n      <th>15</th>\n      <td>6222950081ece9c26d2c4931</td>\n      <td>control</td>\n      <td>0</td>\n      <td>419</td>\n      <td>0</td>\n      <td>0</td>\n      <td>0</td>\n      <td>420</td>\n      <td>642</td>\n      <td>483</td>\n      <td>...</td>\n      <td>NaN</td>\n      <td>0.9</td>\n      <td>-31.0</td>\n      <td>0.0</td>\n      <td>-10.03333</td>\n      <td>13.93</td>\n      <td>0.54717</td>\n      <td>0.00000</td>\n      <td>0.00000</td>\n      <td>0.182390</td>\n    </tr>\n    <tr>\n      <th>16</th>\n      <td>6222950081ece9c26d2c4931</td>\n      <td>control</td>\n      <td>0</td>\n      <td>421</td>\n      <td>0</td>\n      <td>0</td>\n      <td>0</td>\n      <td>1035</td>\n      <td>1269</td>\n      <td>587</td>\n      <td>...</td>\n      <td>NaN</td>\n      <td>-22.0</td>\n      <td>-29.0</td>\n      <td>-9.1</td>\n      <td>-20.03333</td>\n      <td>25.93</td>\n      <td>0.00000</td>\n      <td>0.00000</td>\n      <td>0.72028</td>\n      <td>0.240093</td>\n    </tr>\n    <tr>\n      <th>17</th>\n      <td>6222950081ece9c26d2c4931</td>\n      <td>control</td>\n      <td>0</td>\n      <td>421</td>\n      <td>0</td>\n      <td>0</td>\n      <td>0</td>\n      <td>497</td>\n      <td>740</td>\n      <td>722</td>\n      <td>...</td>\n      <td>NaN</td>\n      <td>-2.1</td>\n      <td>-9.1</td>\n      <td>-14.0</td>\n      <td>-8.40000</td>\n      <td>14.30</td>\n      <td>0.00000</td>\n      <td>0.63683</td>\n      <td>0.69214</td>\n      <td>0.442990</td>\n    </tr>\n    <tr>\n      <th>18</th>\n      <td>6222950081ece9c26d2c4931</td>\n      <td>control</td>\n      <td>0</td>\n      <td>444</td>\n      <td>0</td>\n      <td>0</td>\n      <td>0</td>\n      <td>462</td>\n      <td>1176</td>\n      <td>593</td>\n      <td>...</td>\n      <td>NaN</td>\n      <td>2.0</td>\n      <td>-44.9</td>\n      <td>2.0</td>\n      <td>-13.63333</td>\n      <td>23.63</td>\n      <td>0.00000</td>\n      <td>0.00000</td>\n      <td>0.00000</td>\n      <td>0.000000</td>\n    </tr>\n    <tr>\n      <th>19</th>\n      <td>6222950081ece9c26d2c4931</td>\n      <td>control</td>\n      <td>0</td>\n      <td>446</td>\n      <td>0</td>\n      <td>0</td>\n      <td>0</td>\n      <td>521</td>\n      <td>1113</td>\n      <td>1096</td>\n      <td>...</td>\n      <td>NaN</td>\n      <td>23.0</td>\n      <td>5.0</td>\n      <td>-40.0</td>\n      <td>-4.00000</td>\n      <td>33.90</td>\n      <td>0.00000</td>\n      <td>0.00000</td>\n      <td>0.00000</td>\n      <td>0.000000</td>\n    </tr>\n    <tr>\n      <th>...</th>\n      <td>...</td>\n      <td>...</td>\n      <td>...</td>\n      <td>...</td>\n      <td>...</td>\n      <td>...</td>\n      <td>...</td>\n      <td>...</td>\n      <td>...</td>\n      <td>...</td>\n      <td>...</td>\n      <td>...</td>\n      <td>...</td>\n      <td>...</td>\n      <td>...</td>\n      <td>...</td>\n      <td>...</td>\n      <td>...</td>\n      <td>...</td>\n      <td>...</td>\n      <td>...</td>\n    </tr>\n    <tr>\n      <th>246</th>\n      <td>6222950081ece9c26d2c4931</td>\n      <td>control</td>\n      <td>1</td>\n      <td>1287</td>\n      <td>0</td>\n      <td>0</td>\n      <td>0</td>\n      <td>1086</td>\n      <td>1205</td>\n      <td>678</td>\n      <td>...</td>\n      <td>NaN</td>\n      <td>35.9</td>\n      <td>29.9</td>\n      <td>15.0</td>\n      <td>26.93333</td>\n      <td>17.97</td>\n      <td>0.00000</td>\n      <td>0.00000</td>\n      <td>0.00000</td>\n      <td>0.000000</td>\n    </tr>\n    <tr>\n      <th>247</th>\n      <td>6222950081ece9c26d2c4931</td>\n      <td>control</td>\n      <td>1</td>\n      <td>1300</td>\n      <td>0</td>\n      <td>0</td>\n      <td>0</td>\n      <td>425</td>\n      <td>785</td>\n      <td>473</td>\n      <td>...</td>\n      <td>NaN</td>\n      <td>19.1</td>\n      <td>10.1</td>\n      <td>27.0</td>\n      <td>18.73333</td>\n      <td>16.27</td>\n      <td>0.00000</td>\n      <td>0.72832</td>\n      <td>0.00000</td>\n      <td>0.242773</td>\n    </tr>\n    <tr>\n      <th>248</th>\n      <td>6222950081ece9c26d2c4931</td>\n      <td>control</td>\n      <td>1</td>\n      <td>1300</td>\n      <td>0</td>\n      <td>0</td>\n      <td>0</td>\n      <td>937</td>\n      <td>1193</td>\n      <td>527</td>\n      <td>...</td>\n      <td>NaN</td>\n      <td>-27.9</td>\n      <td>5.1</td>\n      <td>25.0</td>\n      <td>0.73333</td>\n      <td>34.27</td>\n      <td>0.71157</td>\n      <td>0.00000</td>\n      <td>0.00000</td>\n      <td>0.237190</td>\n    </tr>\n    <tr>\n      <th>249</th>\n      <td>6222950081ece9c26d2c4931</td>\n      <td>control</td>\n      <td>1</td>\n      <td>1318</td>\n      <td>0</td>\n      <td>0</td>\n      <td>0</td>\n      <td>640</td>\n      <td>516</td>\n      <td>753</td>\n      <td>...</td>\n      <td>NaN</td>\n      <td>-15.2</td>\n      <td>12.7</td>\n      <td>16.7</td>\n      <td>4.73333</td>\n      <td>19.97</td>\n      <td>0.00000</td>\n      <td>0.00000</td>\n      <td>0.48219</td>\n      <td>0.160730</td>\n    </tr>\n    <tr>\n      <th>250</th>\n      <td>6222950081ece9c26d2c4931</td>\n      <td>control</td>\n      <td>1</td>\n      <td>1319</td>\n      <td>0</td>\n      <td>0</td>\n      <td>0</td>\n      <td>1295</td>\n      <td>1177</td>\n      <td>673</td>\n      <td>...</td>\n      <td>NaN</td>\n      <td>-154.1</td>\n      <td>-25.0</td>\n      <td>10.0</td>\n      <td>-56.36667</td>\n      <td>81.27</td>\n      <td>0.00000</td>\n      <td>0.00000</td>\n      <td>0.00000</td>\n      <td>0.000000</td>\n    </tr>\n  </tbody>\n</table>\n<p>236 rows × 35 columns</p>\n</div>"
     },
     "execution_count": 42,
     "metadata": {},
     "output_type": "execute_result"
    }
   ],
   "source": [
    "df[df['user_uid']=='6222950081ece9c26d2c4931']"
   ],
   "metadata": {
    "collapsed": false,
    "pycharm": {
     "name": "#%%\n"
    }
   }
  }
 ],
 "metadata": {
  "kernelspec": {
   "display_name": "Python 3",
   "language": "python",
   "name": "python3"
  },
  "language_info": {
   "codemirror_mode": {
    "name": "ipython",
    "version": 2
   },
   "file_extension": ".py",
   "mimetype": "text/x-python",
   "name": "python",
   "nbconvert_exporter": "python",
   "pygments_lexer": "ipython2",
   "version": "2.7.6"
  }
 },
 "nbformat": 4,
 "nbformat_minor": 0
}