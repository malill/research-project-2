{
 "cells": [
  {
   "cell_type": "markdown",
   "source": [
    "# Wiki\n",
    "\n",
    "**Input**\n",
    "- `click_behavior.csv` -  output from `reco-api`\n",
    "- `items_20220327.csv` - query from SAP Commerce\n",
    "- `img_sim.csv` - output from `reco-api` image similarity service\n",
    "\n",
    "**Output**\n",
    "A single CSV table with following attributes:\n",
    "- `click_item` - depdendent variable\n",
    "- `r1f_cat` - 1 if recommended item at position 1 shares a category with focal product, 0 else\n",
    "- `r1r_cat` - 1 if recommended item at position 1 shares a category with other recommended products, 0 else\n",
    "\n",
    "# Import Packages & Load Data"
   ],
   "metadata": {
    "collapsed": false,
    "pycharm": {
     "name": "#%% md\n"
    }
   }
  },
  {
   "cell_type": "code",
   "execution_count": 89,
   "outputs": [],
   "source": [
    "import pandas as pd\n",
    "import matplotlib.pyplot as plt\n",
    "\n",
    "# VERSION = '20220410'\n",
    "VERSION = '20220428'\n",
    "\n",
    "df = pd.read_csv(f'../Data/click_behavior_{VERSION}.csv')\n",
    "df_items = pd.read_csv(f'../Data/items_20220327.csv')\n",
    "df_img = pd.read_csv(f'../Data/img_sim.csv')\n",
    "\n",
    "# NOTE: for treatment there are products where no recommendations are available this removes some users totally ... therefore total number of users in treatment is smaller than in random\n",
    "df = df.dropna()"
   ],
   "metadata": {
    "collapsed": false,
    "pycharm": {
     "name": "#%%\n"
    }
   }
  },
  {
   "cell_type": "code",
   "execution_count": 90,
   "outputs": [
    {
     "name": "stdout",
     "output_type": "stream",
     "text": [
      "<class 'pandas.core.frame.DataFrame'>\n",
      "Int64Index: 13980 entries, 0 to 16995\n",
      "Data columns (total 15 columns):\n",
      " #   Column            Non-Null Count  Dtype  \n",
      "---  ------            --------------  -----  \n",
      " 0   user_uid          13980 non-null  object \n",
      " 1   group             13980 non-null  object \n",
      " 2   is_mobile         13980 non-null  int64  \n",
      " 3   timestamp         13980 non-null  object \n",
      " 4   focal_item        13980 non-null  int64  \n",
      " 5   click_item        13980 non-null  int64  \n",
      " 6   click             13980 non-null  int64  \n",
      " 7   click_pos         13980 non-null  int64  \n",
      " 8   reco_item1        13980 non-null  int64  \n",
      " 9   reco_item2        13980 non-null  int64  \n",
      " 10  reco_item3        13980 non-null  int64  \n",
      " 11  focal_item_price  13980 non-null  float64\n",
      " 12  reco_item1_price  13980 non-null  float64\n",
      " 13  reco_item2_price  13980 non-null  float64\n",
      " 14  reco_item3_price  13980 non-null  float64\n",
      "dtypes: float64(4), int64(8), object(3)\n",
      "memory usage: 1.7+ MB\n"
     ]
    }
   ],
   "source": [
    "df.info()"
   ],
   "metadata": {
    "collapsed": false,
    "pycharm": {
     "name": "#%%\n"
    }
   }
  },
  {
   "cell_type": "code",
   "execution_count": 74,
   "outputs": [
    {
     "data": {
      "text/plain": "group\ncf_ib     2.747857\nrandom    3.422182\nName: css, dtype: float64"
     },
     "execution_count": 74,
     "metadata": {},
     "output_type": "execute_result"
    }
   ],
   "source": [
    "# df.groupby(['group'])['user_uid'].nunique()\n",
    "# Consideration set size\n",
    "df[df['user_uid'] != '6222950081ece9c26d2c4931'].groupby(['user_uid', 'group'])['user_uid'].agg(\n",
    "    css='count').reset_index().groupby('group')['css'].mean()"
   ],
   "metadata": {
    "collapsed": false,
    "pycharm": {
     "name": "#%%\n"
    }
   }
  },
  {
   "cell_type": "markdown",
   "source": [
    "## Rename Control & Treatment Group"
   ],
   "metadata": {
    "collapsed": false,
    "pycharm": {
     "name": "#%% md\n"
    }
   }
  },
  {
   "cell_type": "code",
   "execution_count": 75,
   "outputs": [],
   "source": [
    "m = {'cf_ib': 'treatment', 'random': 'control'}\n",
    "df['group'] = df.group.map(m)"
   ],
   "metadata": {
    "collapsed": false,
    "pycharm": {
     "name": "#%%\n"
    }
   }
  },
  {
   "cell_type": "markdown",
   "source": [
    "## Create Focal Item - Recommended Item Set of Tuples"
   ],
   "metadata": {
    "collapsed": false,
    "pycharm": {
     "name": "#%% md\n"
    }
   }
  },
  {
   "cell_type": "code",
   "execution_count": 76,
   "outputs": [],
   "source": [
    "# Create set of unique tuples (focal item, recommended item)\n",
    "focal_reco_tuples = set()\n",
    "for index, row in df[['focal_item', 'reco_item1', 'reco_item2', 'reco_item3']].iterrows():\n",
    "    for i in range(3):\n",
    "        focal_reco_tuples.add((row['focal_item'], row[f'reco_item{i + 1}']))"
   ],
   "metadata": {
    "collapsed": false,
    "pycharm": {
     "name": "#%%\n"
    }
   }
  },
  {
   "cell_type": "markdown",
   "source": [
    "# Distance Focal Item - Recommended Items\n",
    "\n",
    "This metrics are used to operationalize the local contrast effect.\n",
    "\n",
    "## Categories for Focal Item and Recommended Items\n",
    "\n",
    "Get the categories for the focal and the recommended items. When column value is `NaN` the particular item could not be found in the `items.csv`. If column value equals `{}` the item does not belong to any category."
   ],
   "metadata": {
    "collapsed": false,
    "pycharm": {
     "name": "#%% md\n"
    }
   }
  },
  {
   "cell_type": "code",
   "execution_count": 77,
   "outputs": [],
   "source": [
    "item_cat_df = df_items.groupby('PRODUCT_CODE')['CATEGORY_SOURCE'].unique()\n",
    "item_cat_df = item_cat_df.apply(lambda x: [i for i in x if not '2' in i])  # Remove \"Warengruppe\"\n",
    "\n",
    "df[['f_cat', 'r1_cat', 'r2_cat', 'r3_cat']] = 0\n",
    "\n",
    "for index, row in df.iterrows():\n",
    "    focal_item = row['focal_item']\n",
    "    try:\n",
    "        focal_cats = item_cat_df.loc[focal_item]\n",
    "        df.at[index, 'f_cat'] = set(focal_cats)\n",
    "    except:\n",
    "        pass\n",
    "    for i in range(3):\n",
    "        reco_item = row[f'reco_item{i + 1}']\n",
    "        try:\n",
    "            reco_cats = item_cat_df.loc[reco_item]\n",
    "            df.at[index, f'r{i + 1}_cat'] = set(reco_cats)\n",
    "        except:\n",
    "            pass"
   ],
   "metadata": {
    "collapsed": false,
    "pycharm": {
     "name": "#%%\n"
    }
   }
  },
  {
   "cell_type": "markdown",
   "source": [
    "## Categorical Similarity\n",
    "\n",
    "Calculate if the focal and recommended items share at least one category. Also check if the first (second, third) recommended item shares categories with the other recommended items."
   ],
   "metadata": {
    "collapsed": false,
    "pycharm": {
     "name": "#%% md\n"
    }
   }
  },
  {
   "cell_type": "code",
   "execution_count": 78,
   "outputs": [],
   "source": [
    "df[['f_r1_cat', 'f_r2_cat', 'f_r3_cat', 'r1_r_cat', 'r2_r_cat', 'r3_r_cat']] = 0\n",
    "\n",
    "for index, row in df.iterrows():\n",
    "    focal_item = row['focal_item']\n",
    "    try:\n",
    "        focal_cats = item_cat_df.loc[focal_item]\n",
    "    except:\n",
    "        pass\n",
    "    for i in range(3):\n",
    "        reco_item = row[f'reco_item{i + 1}']\n",
    "        # Focal Item -Recommended Item\n",
    "        try:\n",
    "            reco_cats = item_cat_df.loc[reco_item]\n",
    "            df.loc[index, f'f_r{i + 1}_cat'] = int(len(set.intersection(set(focal_cats), set(reco_cats))) > 0)\n",
    "            # df.loc[index, f'f_r{i + 1}_cat'] = int(len(set.intersection(set(focal_cats), set(reco_cats))))\n",
    "        except:\n",
    "            pass\n",
    "\n",
    "        # Recommended Item - Other Recommended Items\n",
    "        try:\n",
    "            other_reco_pos = [x for x in [0, 1, 2] if x != i]\n",
    "            other_reco_cat = []\n",
    "            for j in other_reco_pos:\n",
    "                other_reco_item = row[f'reco_item{j + 1}']\n",
    "                try:\n",
    "                    other_reco_cat.extend(item_cat_df[other_reco_item])\n",
    "                except:\n",
    "                    pass\n",
    "            df.loc[index, f'r{i + 1}_r_cat'] = int(len(set.intersection(set(other_reco_cat), set(reco_cats))) > 0)\n",
    "            # df.loc[index, f'r{i + 1}_r_cat'] = int(len(set.intersection(set(other_reco_cat), set(reco_cats))))\n",
    "        except:\n",
    "            pass"
   ],
   "metadata": {
    "collapsed": false,
    "pycharm": {
     "name": "#%%\n"
    }
   }
  },
  {
   "cell_type": "code",
   "execution_count": 79,
   "outputs": [],
   "source": [
    "df['f_r_cat'] = 0\n",
    "\n",
    "for index, row in df[['f_r1_cat', 'f_r2_cat', 'f_r3_cat']].iterrows():\n",
    "    share_cat = int(row[['f_r1_cat', 'f_r2_cat', 'f_r3_cat']].sum())\n",
    "    df.loc[index, 'f_r_cat'] = share_cat"
   ],
   "metadata": {
    "collapsed": false,
    "pycharm": {
     "name": "#%%\n"
    }
   }
  },
  {
   "cell_type": "code",
   "execution_count": 80,
   "outputs": [],
   "source": [
    "for index, row in df.iterrows():\n",
    "    if row['click'] == 1:\n",
    "        i = row['click_pos']\n",
    "        try:\n",
    "            df.loc[index, 'c_r_cat'] = row[f'r{i}_r_cat']\n",
    "        except:\n",
    "            pass"
   ],
   "metadata": {
    "collapsed": false,
    "pycharm": {
     "name": "#%%\n"
    }
   }
  },
  {
   "cell_type": "code",
   "execution_count": 81,
   "outputs": [
    {
     "data": {
      "text/plain": "                       user_uid      group  is_mobile  \\\n282    6222d9ab81ece9c26db359bd  treatment          1   \n285    6222f33881ece9c26de9975b  treatment          0   \n287    6222f33881ece9c26de9975b  treatment          0   \n290    6222f33881ece9c26de9975b  treatment          0   \n297    6222f33881ece9c26de9975b  treatment          0   \n...                         ...        ...        ...   \n16963  626a37baf5270611cf32d601    control          1   \n16978  626a45bbf5270611cf59b38b  treatment          1   \n16979  626a45bbf5270611cf59b38b  treatment          1   \n16980  626a45bbf5270611cf59b38b  treatment          1   \n16991  626a7492f5270611cfca29f6  treatment          1   \n\n                        timestamp  focal_item  click_item  click  click_pos  \\\n282    2022-03-05T03:34:55.365668        1257        1062      1          1   \n285    2022-03-05T05:24:17.894539        1162        1269      1          1   \n287    2022-03-05T05:28:00.667101        1179        1200      1          2   \n290    2022-03-05T05:29:30.488174         614         606      1          1   \n297    2022-03-06T14:09:44.457908        1292        1256      1          1   \n...                           ...         ...         ...    ...        ...   \n16963  2022-04-28T06:45:43.578423        1312        1208      1          2   \n16978  2022-04-28T09:33:15.700240        1175         821      1          2   \n16979  2022-04-28T09:33:22.023707         821        1280      1          2   \n16980  2022-04-28T09:33:27.672706        1280        1266      1          3   \n16991  2022-04-28T11:04:08.576945        1317        1305      1          1   \n\n       reco_item1  reco_item2  ...  \\\n282          1062        1234  ...   \n285          1269        1211  ...   \n287          1312        1200  ...   \n290           606        1192  ...   \n297          1256         447  ...   \n...           ...         ...  ...   \n16963         479        1208  ...   \n16978         612         821  ...   \n16979         853        1280  ...   \n16980        1303        1267  ...   \n16991        1305        1312  ...   \n\n                                                  r2_cat  \\\n282                      {110 Jahre Austria Wien, Küche}   \n285           {Shirts & Polos Herren, Von Fans für Fans}   \n287    {Von Fans für Fans, Herren Accessoires, Matchtag}   \n290                            {Jacken, Fast ablösefrei}   \n297                                        {Accessoires}   \n...                                                  ...   \n16963                 {Bett & Bad, Violettes Wohnzimmer}   \n16978  {Kinder & Babies Training, Herren Training, Da...   \n16979        {Kinder & Babies, Kinder & Babies Training}   \n16980        {Kinder & Babies, Kinder & Babies Training}   \n16991  {Bett & Bad, Herren Training, Neuzugänge, Dame...   \n\n                                            r3_cat  f_r1_cat  f_r2_cat  \\\n282                                  {Accessoires}         1         0   \n285                        {Shirts & Polos Herren}         1         1   \n287     {Shirts & Polos Herren, Von Fans für Fans}         0         0   \n290                                  {Accessoires}         1         1   \n297                              {Kappen & Hauben}         1         0   \n...                                            ...       ...       ...   \n16963                      {Shirts & Polos Herren}         0         1   \n16978                                {Accessoires}         1         0   \n16979                   {Kinder & Babies Training}         1         1   \n16980  {Kinder & Babies, Kinder & Babies Training}         1         1   \n16991                            {Herren Training}         1         0   \n\n       f_r3_cat r1_r_cat r2_r_cat r3_r_cat f_r_cat  c_r_cat  \n282           0        0        0        0       1      0.0  \n285           1        1        1        1       3      1.0  \n287           0        0        1        1       0      1.0  \n290           0        1        1        0       2      1.0  \n297           1        1        0        1       2      1.0  \n...         ...      ...      ...      ...     ...      ...  \n16963         0        0        0        0       1      0.0  \n16978         0        0        0        0       1      0.0  \n16979         1        1        1        1       3      1.0  \n16980         1        1        1        1       3      1.0  \n16991         0        0        1        1       1      0.0  \n\n[1548 rows x 27 columns]",
      "text/html": "<div>\n<style scoped>\n    .dataframe tbody tr th:only-of-type {\n        vertical-align: middle;\n    }\n\n    .dataframe tbody tr th {\n        vertical-align: top;\n    }\n\n    .dataframe thead th {\n        text-align: right;\n    }\n</style>\n<table border=\"1\" class=\"dataframe\">\n  <thead>\n    <tr style=\"text-align: right;\">\n      <th></th>\n      <th>user_uid</th>\n      <th>group</th>\n      <th>is_mobile</th>\n      <th>timestamp</th>\n      <th>focal_item</th>\n      <th>click_item</th>\n      <th>click</th>\n      <th>click_pos</th>\n      <th>reco_item1</th>\n      <th>reco_item2</th>\n      <th>...</th>\n      <th>r2_cat</th>\n      <th>r3_cat</th>\n      <th>f_r1_cat</th>\n      <th>f_r2_cat</th>\n      <th>f_r3_cat</th>\n      <th>r1_r_cat</th>\n      <th>r2_r_cat</th>\n      <th>r3_r_cat</th>\n      <th>f_r_cat</th>\n      <th>c_r_cat</th>\n    </tr>\n  </thead>\n  <tbody>\n    <tr>\n      <th>282</th>\n      <td>6222d9ab81ece9c26db359bd</td>\n      <td>treatment</td>\n      <td>1</td>\n      <td>2022-03-05T03:34:55.365668</td>\n      <td>1257</td>\n      <td>1062</td>\n      <td>1</td>\n      <td>1</td>\n      <td>1062</td>\n      <td>1234</td>\n      <td>...</td>\n      <td>{110 Jahre Austria Wien, Küche}</td>\n      <td>{Accessoires}</td>\n      <td>1</td>\n      <td>0</td>\n      <td>0</td>\n      <td>0</td>\n      <td>0</td>\n      <td>0</td>\n      <td>1</td>\n      <td>0.0</td>\n    </tr>\n    <tr>\n      <th>285</th>\n      <td>6222f33881ece9c26de9975b</td>\n      <td>treatment</td>\n      <td>0</td>\n      <td>2022-03-05T05:24:17.894539</td>\n      <td>1162</td>\n      <td>1269</td>\n      <td>1</td>\n      <td>1</td>\n      <td>1269</td>\n      <td>1211</td>\n      <td>...</td>\n      <td>{Shirts &amp; Polos Herren, Von Fans für Fans}</td>\n      <td>{Shirts &amp; Polos Herren}</td>\n      <td>1</td>\n      <td>1</td>\n      <td>1</td>\n      <td>1</td>\n      <td>1</td>\n      <td>1</td>\n      <td>3</td>\n      <td>1.0</td>\n    </tr>\n    <tr>\n      <th>287</th>\n      <td>6222f33881ece9c26de9975b</td>\n      <td>treatment</td>\n      <td>0</td>\n      <td>2022-03-05T05:28:00.667101</td>\n      <td>1179</td>\n      <td>1200</td>\n      <td>1</td>\n      <td>2</td>\n      <td>1312</td>\n      <td>1200</td>\n      <td>...</td>\n      <td>{Von Fans für Fans, Herren Accessoires, Matchtag}</td>\n      <td>{Shirts &amp; Polos Herren, Von Fans für Fans}</td>\n      <td>0</td>\n      <td>0</td>\n      <td>0</td>\n      <td>0</td>\n      <td>1</td>\n      <td>1</td>\n      <td>0</td>\n      <td>1.0</td>\n    </tr>\n    <tr>\n      <th>290</th>\n      <td>6222f33881ece9c26de9975b</td>\n      <td>treatment</td>\n      <td>0</td>\n      <td>2022-03-05T05:29:30.488174</td>\n      <td>614</td>\n      <td>606</td>\n      <td>1</td>\n      <td>1</td>\n      <td>606</td>\n      <td>1192</td>\n      <td>...</td>\n      <td>{Jacken, Fast ablösefrei}</td>\n      <td>{Accessoires}</td>\n      <td>1</td>\n      <td>1</td>\n      <td>0</td>\n      <td>1</td>\n      <td>1</td>\n      <td>0</td>\n      <td>2</td>\n      <td>1.0</td>\n    </tr>\n    <tr>\n      <th>297</th>\n      <td>6222f33881ece9c26de9975b</td>\n      <td>treatment</td>\n      <td>0</td>\n      <td>2022-03-06T14:09:44.457908</td>\n      <td>1292</td>\n      <td>1256</td>\n      <td>1</td>\n      <td>1</td>\n      <td>1256</td>\n      <td>447</td>\n      <td>...</td>\n      <td>{Accessoires}</td>\n      <td>{Kappen &amp; Hauben}</td>\n      <td>1</td>\n      <td>0</td>\n      <td>1</td>\n      <td>1</td>\n      <td>0</td>\n      <td>1</td>\n      <td>2</td>\n      <td>1.0</td>\n    </tr>\n    <tr>\n      <th>...</th>\n      <td>...</td>\n      <td>...</td>\n      <td>...</td>\n      <td>...</td>\n      <td>...</td>\n      <td>...</td>\n      <td>...</td>\n      <td>...</td>\n      <td>...</td>\n      <td>...</td>\n      <td>...</td>\n      <td>...</td>\n      <td>...</td>\n      <td>...</td>\n      <td>...</td>\n      <td>...</td>\n      <td>...</td>\n      <td>...</td>\n      <td>...</td>\n      <td>...</td>\n      <td>...</td>\n    </tr>\n    <tr>\n      <th>16963</th>\n      <td>626a37baf5270611cf32d601</td>\n      <td>control</td>\n      <td>1</td>\n      <td>2022-04-28T06:45:43.578423</td>\n      <td>1312</td>\n      <td>1208</td>\n      <td>1</td>\n      <td>2</td>\n      <td>479</td>\n      <td>1208</td>\n      <td>...</td>\n      <td>{Bett &amp; Bad, Violettes Wohnzimmer}</td>\n      <td>{Shirts &amp; Polos Herren}</td>\n      <td>0</td>\n      <td>1</td>\n      <td>0</td>\n      <td>0</td>\n      <td>0</td>\n      <td>0</td>\n      <td>1</td>\n      <td>0.0</td>\n    </tr>\n    <tr>\n      <th>16978</th>\n      <td>626a45bbf5270611cf59b38b</td>\n      <td>treatment</td>\n      <td>1</td>\n      <td>2022-04-28T09:33:15.700240</td>\n      <td>1175</td>\n      <td>821</td>\n      <td>1</td>\n      <td>2</td>\n      <td>612</td>\n      <td>821</td>\n      <td>...</td>\n      <td>{Kinder &amp; Babies Training, Herren Training, Da...</td>\n      <td>{Accessoires}</td>\n      <td>1</td>\n      <td>0</td>\n      <td>0</td>\n      <td>0</td>\n      <td>0</td>\n      <td>0</td>\n      <td>1</td>\n      <td>0.0</td>\n    </tr>\n    <tr>\n      <th>16979</th>\n      <td>626a45bbf5270611cf59b38b</td>\n      <td>treatment</td>\n      <td>1</td>\n      <td>2022-04-28T09:33:22.023707</td>\n      <td>821</td>\n      <td>1280</td>\n      <td>1</td>\n      <td>2</td>\n      <td>853</td>\n      <td>1280</td>\n      <td>...</td>\n      <td>{Kinder &amp; Babies, Kinder &amp; Babies Training}</td>\n      <td>{Kinder &amp; Babies Training}</td>\n      <td>1</td>\n      <td>1</td>\n      <td>1</td>\n      <td>1</td>\n      <td>1</td>\n      <td>1</td>\n      <td>3</td>\n      <td>1.0</td>\n    </tr>\n    <tr>\n      <th>16980</th>\n      <td>626a45bbf5270611cf59b38b</td>\n      <td>treatment</td>\n      <td>1</td>\n      <td>2022-04-28T09:33:27.672706</td>\n      <td>1280</td>\n      <td>1266</td>\n      <td>1</td>\n      <td>3</td>\n      <td>1303</td>\n      <td>1267</td>\n      <td>...</td>\n      <td>{Kinder &amp; Babies, Kinder &amp; Babies Training}</td>\n      <td>{Kinder &amp; Babies, Kinder &amp; Babies Training}</td>\n      <td>1</td>\n      <td>1</td>\n      <td>1</td>\n      <td>1</td>\n      <td>1</td>\n      <td>1</td>\n      <td>3</td>\n      <td>1.0</td>\n    </tr>\n    <tr>\n      <th>16991</th>\n      <td>626a7492f5270611cfca29f6</td>\n      <td>treatment</td>\n      <td>1</td>\n      <td>2022-04-28T11:04:08.576945</td>\n      <td>1317</td>\n      <td>1305</td>\n      <td>1</td>\n      <td>1</td>\n      <td>1305</td>\n      <td>1312</td>\n      <td>...</td>\n      <td>{Bett &amp; Bad, Herren Training, Neuzugänge, Dame...</td>\n      <td>{Herren Training}</td>\n      <td>1</td>\n      <td>0</td>\n      <td>0</td>\n      <td>0</td>\n      <td>1</td>\n      <td>1</td>\n      <td>1</td>\n      <td>0.0</td>\n    </tr>\n  </tbody>\n</table>\n<p>1548 rows × 27 columns</p>\n</div>"
     },
     "execution_count": 81,
     "metadata": {},
     "output_type": "execute_result"
    }
   ],
   "source": [
    "df[df['click'] == 1]"
   ],
   "metadata": {
    "collapsed": false,
    "pycharm": {
     "name": "#%%\n"
    }
   }
  },
  {
   "cell_type": "markdown",
   "source": [
    "## Price Distance\n",
    "\n",
    "Price was already given by `reco-api`, therefore calculation of prices not needed (compared to categories from above)."
   ],
   "metadata": {
    "collapsed": false,
    "pycharm": {
     "name": "#%% md\n"
    }
   }
  },
  {
   "cell_type": "code",
   "execution_count": 82,
   "outputs": [],
   "source": [
    "df[['f_r1_price', 'f_r2_price', 'f_r3_price']] = 0\n",
    "\n",
    "for index, row in df[['focal_item_price', 'reco_item1_price', 'reco_item2_price', 'reco_item3_price']].iterrows():\n",
    "    f_price = row['focal_item_price']\n",
    "    for i in range(3):\n",
    "        r_price = row[f'reco_item{i + 1}_price']\n",
    "        df.loc[index, f'f_r{i + 1}_price'] = (f_price - r_price)"
   ],
   "metadata": {
    "collapsed": false,
    "pycharm": {
     "name": "#%%\n"
    }
   }
  },
  {
   "cell_type": "code",
   "execution_count": 83,
   "outputs": [],
   "source": [
    "df['f_r_price'] = 0\n",
    "\n",
    "for index, row in df[['focal_item_price', 'reco_item1_price', 'reco_item2_price', 'reco_item3_price']].iterrows():\n",
    "    reco_price_mean = row[['reco_item1_price', 'reco_item2_price', 'reco_item3_price']].mean()\n",
    "    df.loc[index, 'r_price_mean'] = reco_price_mean.round(2)\n",
    "    df.loc[index, 'f_r_price'] = (row['focal_item_price'] - reco_price_mean).round(5)"
   ],
   "metadata": {
    "collapsed": false,
    "pycharm": {
     "name": "#%%\n"
    }
   }
  },
  {
   "cell_type": "markdown",
   "source": [
    "## Visual Similarity"
   ],
   "metadata": {
    "collapsed": false,
    "pycharm": {
     "name": "#%% md\n"
    }
   }
  },
  {
   "cell_type": "code",
   "execution_count": 84,
   "outputs": [],
   "source": [
    "df[['f_r1_img', 'f_r2_img', 'f_r3_img']] = 0\n",
    "\n",
    "for index, row in df[['focal_item', 'reco_item1', 'reco_item2', 'reco_item3']].iterrows():\n",
    "    f = row['focal_item']\n",
    "    for i in range(3):\n",
    "        r = row[f'reco_item{i + 1}']\n",
    "        score = df_img[(df_img['item1'] == str(r)) & (df_img['item2'] == str(f)) | (df_img['item1'] == str(f)) & (\n",
    "                df_img['item2'] == str(r))]['sim'].values\n",
    "        if len(score) == 1:\n",
    "            df.loc[index, f'f_r{i + 1}_img'] = score"
   ],
   "metadata": {
    "collapsed": false,
    "pycharm": {
     "name": "#%%\n"
    }
   }
  },
  {
   "cell_type": "code",
   "execution_count": 85,
   "outputs": [],
   "source": [
    "df['f_r_img'] = 0\n",
    "\n",
    "for index, row in df[['f_r1_img', 'f_r2_img', 'f_r3_img']].iterrows():\n",
    "    reco_img_mean = row[['f_r1_img', 'f_r2_img', 'f_r3_img']].mean()\n",
    "    df.loc[index, 'f_r_img'] = reco_img_mean"
   ],
   "metadata": {
    "collapsed": false,
    "pycharm": {
     "name": "#%%\n"
    }
   }
  },
  {
   "cell_type": "markdown",
   "source": [
    "# Inner Congruence / Distance Recommended Items"
   ],
   "metadata": {
    "collapsed": false,
    "pycharm": {
     "name": "#%% md\n"
    }
   }
  },
  {
   "cell_type": "markdown",
   "source": [
    "# Create CSV"
   ],
   "metadata": {
    "collapsed": false,
    "pycharm": {
     "name": "#%% md\n"
    }
   }
  },
  {
   "cell_type": "code",
   "execution_count": 86,
   "outputs": [
    {
     "data": {
      "text/plain": "                       user_uid      group  is_mobile  \\\n0      6222885b81ece9c26d146eff  treatment          1   \n1      6222886181ece9c26d147a81    control          1   \n2      6222886181ece9c26d147a81    control          1   \n3      6222886181ece9c26d147a81    control          1   \n4      6222886181ece9c26d147a81    control          1   \n...                         ...        ...        ...   \n16990  626a6d6cf5270611cfba3296  treatment          0   \n16991  626a7492f5270611cfca29f6  treatment          1   \n16993  626a7b42f5270611cfd924f4    control          1   \n16994  626a7b42f5270611cfd924f4    control          1   \n16995  626a7b42f5270611cfd924f4    control          1   \n\n                        timestamp  focal_item  click_item  click  click_pos  \\\n0      2022-03-04T21:45:05.603683        1239           0      0          0   \n1      2022-03-04T21:45:25.651769        1189           0      0          0   \n2      2022-03-04T21:46:27.444002         686           0      0          0   \n3      2022-03-04T21:46:32.827091         686           0      0          0   \n4      2022-03-09T21:44:59.657430        1189           0      0          0   \n...                           ...         ...         ...    ...        ...   \n16990  2022-04-28T10:34:23.223689        1166           0      0          0   \n16991  2022-04-28T11:04:08.576945        1317        1305      1          1   \n16993  2022-04-28T11:33:43.088568        1259           0      0          0   \n16994  2022-04-28T11:33:57.778352        1162           0      0          0   \n16995  2022-04-28T11:34:12.804921        1162           0      0          0   \n\n       reco_item1  reco_item2  ...  c_r_cat  f_r1_price  f_r2_price  \\\n0            1173        1240  ...      NaN        15.0       -30.0   \n1             487        1156  ...      NaN        -4.2      -117.2   \n2             642        1256  ...      NaN       -12.4        -2.4   \n3             436         456  ...      NaN         7.6        14.5   \n4            1279         501  ...      NaN       -28.1       -33.2   \n...           ...         ...  ...      ...         ...         ...   \n16990         478        1144  ...      NaN        22.0        22.0   \n16991        1305        1312  ...      0.0         0.0        10.0   \n16993         755        1130  ...      NaN        15.9        19.9   \n16994        1207         597  ...      NaN        25.0        24.9   \n16995         558         853  ...      NaN        34.9        14.9   \n\n       f_r3_price  f_r_price r_price_mean f_r1_img f_r2_img f_r3_img   f_r_img  \n0            15.0    0.00000        29.90  0.76596  0.87389  0.00000  0.546617  \n1            -4.1  -41.83333        43.63  0.00000  0.00000  0.71523  0.238410  \n2            -5.4   -6.73333        29.23  0.76480  0.00000  0.00000  0.254933  \n3            -2.4    6.56667        15.93  0.00000  0.00000  0.79375  0.264583  \n4            -8.2  -23.16667        24.97  0.74384  0.00000  0.00000  0.247947  \n...           ...        ...          ...      ...      ...      ...       ...  \n16990        26.0   23.33333         6.57  0.00000  0.73201  0.00000  0.244003  \n16991       -15.1   -1.70000        31.60  0.75408  0.00000  0.71297  0.489017  \n16993        20.0   18.60000        11.30  0.00000  0.00000  0.00000  0.000000  \n16994        36.9   28.93333        10.97  0.00000  0.00000  0.00000  0.000000  \n16995        11.9   20.56667        19.33  0.00000  0.73111  0.76477  0.498627  \n\n[13980 rows x 36 columns]",
      "text/html": "<div>\n<style scoped>\n    .dataframe tbody tr th:only-of-type {\n        vertical-align: middle;\n    }\n\n    .dataframe tbody tr th {\n        vertical-align: top;\n    }\n\n    .dataframe thead th {\n        text-align: right;\n    }\n</style>\n<table border=\"1\" class=\"dataframe\">\n  <thead>\n    <tr style=\"text-align: right;\">\n      <th></th>\n      <th>user_uid</th>\n      <th>group</th>\n      <th>is_mobile</th>\n      <th>timestamp</th>\n      <th>focal_item</th>\n      <th>click_item</th>\n      <th>click</th>\n      <th>click_pos</th>\n      <th>reco_item1</th>\n      <th>reco_item2</th>\n      <th>...</th>\n      <th>c_r_cat</th>\n      <th>f_r1_price</th>\n      <th>f_r2_price</th>\n      <th>f_r3_price</th>\n      <th>f_r_price</th>\n      <th>r_price_mean</th>\n      <th>f_r1_img</th>\n      <th>f_r2_img</th>\n      <th>f_r3_img</th>\n      <th>f_r_img</th>\n    </tr>\n  </thead>\n  <tbody>\n    <tr>\n      <th>0</th>\n      <td>6222885b81ece9c26d146eff</td>\n      <td>treatment</td>\n      <td>1</td>\n      <td>2022-03-04T21:45:05.603683</td>\n      <td>1239</td>\n      <td>0</td>\n      <td>0</td>\n      <td>0</td>\n      <td>1173</td>\n      <td>1240</td>\n      <td>...</td>\n      <td>NaN</td>\n      <td>15.0</td>\n      <td>-30.0</td>\n      <td>15.0</td>\n      <td>0.00000</td>\n      <td>29.90</td>\n      <td>0.76596</td>\n      <td>0.87389</td>\n      <td>0.00000</td>\n      <td>0.546617</td>\n    </tr>\n    <tr>\n      <th>1</th>\n      <td>6222886181ece9c26d147a81</td>\n      <td>control</td>\n      <td>1</td>\n      <td>2022-03-04T21:45:25.651769</td>\n      <td>1189</td>\n      <td>0</td>\n      <td>0</td>\n      <td>0</td>\n      <td>487</td>\n      <td>1156</td>\n      <td>...</td>\n      <td>NaN</td>\n      <td>-4.2</td>\n      <td>-117.2</td>\n      <td>-4.1</td>\n      <td>-41.83333</td>\n      <td>43.63</td>\n      <td>0.00000</td>\n      <td>0.00000</td>\n      <td>0.71523</td>\n      <td>0.238410</td>\n    </tr>\n    <tr>\n      <th>2</th>\n      <td>6222886181ece9c26d147a81</td>\n      <td>control</td>\n      <td>1</td>\n      <td>2022-03-04T21:46:27.444002</td>\n      <td>686</td>\n      <td>0</td>\n      <td>0</td>\n      <td>0</td>\n      <td>642</td>\n      <td>1256</td>\n      <td>...</td>\n      <td>NaN</td>\n      <td>-12.4</td>\n      <td>-2.4</td>\n      <td>-5.4</td>\n      <td>-6.73333</td>\n      <td>29.23</td>\n      <td>0.76480</td>\n      <td>0.00000</td>\n      <td>0.00000</td>\n      <td>0.254933</td>\n    </tr>\n    <tr>\n      <th>3</th>\n      <td>6222886181ece9c26d147a81</td>\n      <td>control</td>\n      <td>1</td>\n      <td>2022-03-04T21:46:32.827091</td>\n      <td>686</td>\n      <td>0</td>\n      <td>0</td>\n      <td>0</td>\n      <td>436</td>\n      <td>456</td>\n      <td>...</td>\n      <td>NaN</td>\n      <td>7.6</td>\n      <td>14.5</td>\n      <td>-2.4</td>\n      <td>6.56667</td>\n      <td>15.93</td>\n      <td>0.00000</td>\n      <td>0.00000</td>\n      <td>0.79375</td>\n      <td>0.264583</td>\n    </tr>\n    <tr>\n      <th>4</th>\n      <td>6222886181ece9c26d147a81</td>\n      <td>control</td>\n      <td>1</td>\n      <td>2022-03-09T21:44:59.657430</td>\n      <td>1189</td>\n      <td>0</td>\n      <td>0</td>\n      <td>0</td>\n      <td>1279</td>\n      <td>501</td>\n      <td>...</td>\n      <td>NaN</td>\n      <td>-28.1</td>\n      <td>-33.2</td>\n      <td>-8.2</td>\n      <td>-23.16667</td>\n      <td>24.97</td>\n      <td>0.74384</td>\n      <td>0.00000</td>\n      <td>0.00000</td>\n      <td>0.247947</td>\n    </tr>\n    <tr>\n      <th>...</th>\n      <td>...</td>\n      <td>...</td>\n      <td>...</td>\n      <td>...</td>\n      <td>...</td>\n      <td>...</td>\n      <td>...</td>\n      <td>...</td>\n      <td>...</td>\n      <td>...</td>\n      <td>...</td>\n      <td>...</td>\n      <td>...</td>\n      <td>...</td>\n      <td>...</td>\n      <td>...</td>\n      <td>...</td>\n      <td>...</td>\n      <td>...</td>\n      <td>...</td>\n      <td>...</td>\n    </tr>\n    <tr>\n      <th>16990</th>\n      <td>626a6d6cf5270611cfba3296</td>\n      <td>treatment</td>\n      <td>0</td>\n      <td>2022-04-28T10:34:23.223689</td>\n      <td>1166</td>\n      <td>0</td>\n      <td>0</td>\n      <td>0</td>\n      <td>478</td>\n      <td>1144</td>\n      <td>...</td>\n      <td>NaN</td>\n      <td>22.0</td>\n      <td>22.0</td>\n      <td>26.0</td>\n      <td>23.33333</td>\n      <td>6.57</td>\n      <td>0.00000</td>\n      <td>0.73201</td>\n      <td>0.00000</td>\n      <td>0.244003</td>\n    </tr>\n    <tr>\n      <th>16991</th>\n      <td>626a7492f5270611cfca29f6</td>\n      <td>treatment</td>\n      <td>1</td>\n      <td>2022-04-28T11:04:08.576945</td>\n      <td>1317</td>\n      <td>1305</td>\n      <td>1</td>\n      <td>1</td>\n      <td>1305</td>\n      <td>1312</td>\n      <td>...</td>\n      <td>0.0</td>\n      <td>0.0</td>\n      <td>10.0</td>\n      <td>-15.1</td>\n      <td>-1.70000</td>\n      <td>31.60</td>\n      <td>0.75408</td>\n      <td>0.00000</td>\n      <td>0.71297</td>\n      <td>0.489017</td>\n    </tr>\n    <tr>\n      <th>16993</th>\n      <td>626a7b42f5270611cfd924f4</td>\n      <td>control</td>\n      <td>1</td>\n      <td>2022-04-28T11:33:43.088568</td>\n      <td>1259</td>\n      <td>0</td>\n      <td>0</td>\n      <td>0</td>\n      <td>755</td>\n      <td>1130</td>\n      <td>...</td>\n      <td>NaN</td>\n      <td>15.9</td>\n      <td>19.9</td>\n      <td>20.0</td>\n      <td>18.60000</td>\n      <td>11.30</td>\n      <td>0.00000</td>\n      <td>0.00000</td>\n      <td>0.00000</td>\n      <td>0.000000</td>\n    </tr>\n    <tr>\n      <th>16994</th>\n      <td>626a7b42f5270611cfd924f4</td>\n      <td>control</td>\n      <td>1</td>\n      <td>2022-04-28T11:33:57.778352</td>\n      <td>1162</td>\n      <td>0</td>\n      <td>0</td>\n      <td>0</td>\n      <td>1207</td>\n      <td>597</td>\n      <td>...</td>\n      <td>NaN</td>\n      <td>25.0</td>\n      <td>24.9</td>\n      <td>36.9</td>\n      <td>28.93333</td>\n      <td>10.97</td>\n      <td>0.00000</td>\n      <td>0.00000</td>\n      <td>0.00000</td>\n      <td>0.000000</td>\n    </tr>\n    <tr>\n      <th>16995</th>\n      <td>626a7b42f5270611cfd924f4</td>\n      <td>control</td>\n      <td>1</td>\n      <td>2022-04-28T11:34:12.804921</td>\n      <td>1162</td>\n      <td>0</td>\n      <td>0</td>\n      <td>0</td>\n      <td>558</td>\n      <td>853</td>\n      <td>...</td>\n      <td>NaN</td>\n      <td>34.9</td>\n      <td>14.9</td>\n      <td>11.9</td>\n      <td>20.56667</td>\n      <td>19.33</td>\n      <td>0.00000</td>\n      <td>0.73111</td>\n      <td>0.76477</td>\n      <td>0.498627</td>\n    </tr>\n  </tbody>\n</table>\n<p>13980 rows × 36 columns</p>\n</div>"
     },
     "execution_count": 86,
     "metadata": {},
     "output_type": "execute_result"
    }
   ],
   "source": [
    "# df = df.drop(columns=['reco_item1', 'reco_item2', 'reco_item3', 'f_cat', 'r1_cat', 'r2_cat', 'r3_cat'])\n",
    "df"
   ],
   "metadata": {
    "collapsed": false,
    "pycharm": {
     "name": "#%%\n"
    }
   }
  },
  {
   "cell_type": "code",
   "execution_count": 87,
   "outputs": [],
   "source": [
    "df.to_csv(f'../Data/click_behavior_processed_{VERSION}.csv', index=False)"
   ],
   "metadata": {
    "collapsed": false,
    "pycharm": {
     "name": "#%%\n"
    }
   }
  },
  {
   "cell_type": "code",
   "execution_count": 88,
   "outputs": [
    {
     "data": {
      "text/plain": "<Figure size 432x288 with 1 Axes>",
      "image/png": "[encoded data removed]"
     },
     "metadata": {
      "needs_background": "light"
     },
     "output_type": "display_data"
    }
   ],
   "source": [
    "_ = plt.hist(df['f_r_price'], bins=50)\n",
    "_ = plt.title('Distribution of Price Differences (Focal/Avg. Recommended)')\n",
    "_ = plt.xlabel('Price Difference')\n",
    "_ = plt.ylabel('Count')"
   ],
   "metadata": {
    "collapsed": false,
    "pycharm": {
     "name": "#%%\n"
    }
   }
  },
  {
   "cell_type": "markdown",
   "source": [
    "$$ (p1, p2, p3) = \\beta_0  + category*x_1 + price*x_2 + visual*x_3$$\n",
    "\n",
    "$$\n",
    "x_1 = \\begin{pmatrix}\n",
    "1 & 0 & 1\n",
    "\\end{pmatrix}'\\in\\mathbb R^{3\\times 1}\n",
    "$$"
   ],
   "metadata": {
    "collapsed": false,
    "pycharm": {
     "name": "#%% md\n"
    }
   }
  }
 ],
 "metadata": {
  "kernelspec": {
   "display_name": "Python 3",
   "language": "python",
   "name": "python3"
  },
  "language_info": {
   "codemirror_mode": {
    "name": "ipython",
    "version": 2
   },
   "file_extension": ".py",
   "mimetype": "text/x-python",
   "name": "python",
   "nbconvert_exporter": "python",
   "pygments_lexer": "ipython2",
   "version": "2.7.6"
  }
 },
 "nbformat": 4,
 "nbformat_minor": 0
}