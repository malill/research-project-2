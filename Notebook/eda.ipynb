{
 "cells": [
  {
   "cell_type": "markdown",
   "metadata": {
    "collapsed": true,
    "pycharm": {
     "name": "#%% md\n"
    }
   },
   "source": [
    "# Descriptive Statistics"
   ]
  },
  {
   "cell_type": "code",
   "execution_count": 1,
   "metadata": {
    "pycharm": {
     "name": "#%%\n"
    }
   },
   "outputs": [],
   "source": [
    "import pandas as pd\n",
    "import matplotlib.pyplot as plt"
   ]
  },
  {
   "cell_type": "code",
   "execution_count": 2,
   "metadata": {
    "pycharm": {
     "name": "#%%\n"
    }
   },
   "outputs": [],
   "source": [
    "VERSION = '20220327'\n",
    "\n",
    "evidence_df = pd.read_csv(f'../../data/processed/evidence_{VERSION}.csv')\n",
    "order_df = pd.read_csv(f'../../data/processed/order_{VERSION}.csv')\n",
    "order_entry_df = pd.read_csv(f'../../data/processed/order_entry_{VERSION}.csv')\n",
    "user_df = pd.read_csv(f'../../data/processed/user_{VERSION}.csv')"
   ]
  },
  {
   "cell_type": "code",
   "execution_count": 3,
   "outputs": [
    {
     "data": {
      "text/plain": "                      user_uid      group  is_mobile  n_category_search  \\\n0     6222885b81ece9c26d146eff  treatment          1                NaN   \n1     6222886181ece9c26d147a81    control          1                7.0   \n2     6222889381ece9c26d14d605    control          0                NaN   \n3     62228a9481ece9c26d188866  treatment          1                NaN   \n4     62228af781ece9c26d196216    control          0                NaN   \n...                        ...        ...        ...                ...   \n3834  624061155c796c58d255fd46  treatment          1                5.0   \n3835  624065685c796c58d25e4997    control          1               24.0   \n3836  624066cd5c796c58d2610d28  treatment          1                2.0   \n3837  62406ea45c796c58d270c4d0    control          0               15.0   \n3838  62406edb5c796c58d271302f    control          0                4.0   \n\n               t_first_reco_view                         t_0  \\\n0     2022-03-04T21:45:05.603683  2022-03-04T21:44:59.682979   \n1     2022-03-04T21:45:25.651769  2022-03-04T21:45:19.727756   \n2     2022-03-04T21:52:36.124108  2022-03-04T21:47:55.546127   \n3     2022-03-04T21:54:51.169093  2022-03-04T21:54:28.623894   \n4                            NaN  2022-03-04T21:56:57.347037   \n...                          ...                         ...   \n3834  2022-03-27T13:08:47.633155  2022-03-27T13:05:26.369917   \n3835  2022-03-27T13:27:21.361738  2022-03-27T13:25:56.911896   \n3836                         NaN  2022-03-27T13:31:45.265256   \n3837  2022-03-27T14:07:23.685258  2022-03-27T14:03:59.569052   \n3838                         NaN  2022-03-27T14:04:41.204531   \n\n                             t_T  product_views  css  \n0     2022-03-04T21:45:17.326452            1.0  1.0  \n1     2022-03-09T21:52:08.377106            7.0  6.0  \n2     2022-03-04T21:53:47.198043            6.0  6.0  \n3     2022-03-05T08:07:14.239020            6.0  5.0  \n4     2022-03-04T21:57:07.823967            2.0  2.0  \n...                          ...            ...  ...  \n3834  2022-03-27T14:02:51.457710            3.0  2.0  \n3835  2022-03-27T13:36:52.209375            8.0  8.0  \n3836  2022-03-27T13:33:45.834007            1.0  1.0  \n3837  2022-03-27T14:15:05.201592            5.0  5.0  \n3838  2022-03-27T14:05:24.777815            3.0  3.0  \n\n[3839 rows x 9 columns]",
      "text/html": "<div>\n<style scoped>\n    .dataframe tbody tr th:only-of-type {\n        vertical-align: middle;\n    }\n\n    .dataframe tbody tr th {\n        vertical-align: top;\n    }\n\n    .dataframe thead th {\n        text-align: right;\n    }\n</style>\n<table border=\"1\" class=\"dataframe\">\n  <thead>\n    <tr style=\"text-align: right;\">\n      <th></th>\n      <th>user_uid</th>\n      <th>group</th>\n      <th>is_mobile</th>\n      <th>n_category_search</th>\n      <th>t_first_reco_view</th>\n      <th>t_0</th>\n      <th>t_T</th>\n      <th>product_views</th>\n      <th>css</th>\n    </tr>\n  </thead>\n  <tbody>\n    <tr>\n      <th>0</th>\n      <td>6222885b81ece9c26d146eff</td>\n      <td>treatment</td>\n      <td>1</td>\n      <td>NaN</td>\n      <td>2022-03-04T21:45:05.603683</td>\n      <td>2022-03-04T21:44:59.682979</td>\n      <td>2022-03-04T21:45:17.326452</td>\n      <td>1.0</td>\n      <td>1.0</td>\n    </tr>\n    <tr>\n      <th>1</th>\n      <td>6222886181ece9c26d147a81</td>\n      <td>control</td>\n      <td>1</td>\n      <td>7.0</td>\n      <td>2022-03-04T21:45:25.651769</td>\n      <td>2022-03-04T21:45:19.727756</td>\n      <td>2022-03-09T21:52:08.377106</td>\n      <td>7.0</td>\n      <td>6.0</td>\n    </tr>\n    <tr>\n      <th>2</th>\n      <td>6222889381ece9c26d14d605</td>\n      <td>control</td>\n      <td>0</td>\n      <td>NaN</td>\n      <td>2022-03-04T21:52:36.124108</td>\n      <td>2022-03-04T21:47:55.546127</td>\n      <td>2022-03-04T21:53:47.198043</td>\n      <td>6.0</td>\n      <td>6.0</td>\n    </tr>\n    <tr>\n      <th>3</th>\n      <td>62228a9481ece9c26d188866</td>\n      <td>treatment</td>\n      <td>1</td>\n      <td>NaN</td>\n      <td>2022-03-04T21:54:51.169093</td>\n      <td>2022-03-04T21:54:28.623894</td>\n      <td>2022-03-05T08:07:14.239020</td>\n      <td>6.0</td>\n      <td>5.0</td>\n    </tr>\n    <tr>\n      <th>4</th>\n      <td>62228af781ece9c26d196216</td>\n      <td>control</td>\n      <td>0</td>\n      <td>NaN</td>\n      <td>NaN</td>\n      <td>2022-03-04T21:56:57.347037</td>\n      <td>2022-03-04T21:57:07.823967</td>\n      <td>2.0</td>\n      <td>2.0</td>\n    </tr>\n    <tr>\n      <th>...</th>\n      <td>...</td>\n      <td>...</td>\n      <td>...</td>\n      <td>...</td>\n      <td>...</td>\n      <td>...</td>\n      <td>...</td>\n      <td>...</td>\n      <td>...</td>\n    </tr>\n    <tr>\n      <th>3834</th>\n      <td>624061155c796c58d255fd46</td>\n      <td>treatment</td>\n      <td>1</td>\n      <td>5.0</td>\n      <td>2022-03-27T13:08:47.633155</td>\n      <td>2022-03-27T13:05:26.369917</td>\n      <td>2022-03-27T14:02:51.457710</td>\n      <td>3.0</td>\n      <td>2.0</td>\n    </tr>\n    <tr>\n      <th>3835</th>\n      <td>624065685c796c58d25e4997</td>\n      <td>control</td>\n      <td>1</td>\n      <td>24.0</td>\n      <td>2022-03-27T13:27:21.361738</td>\n      <td>2022-03-27T13:25:56.911896</td>\n      <td>2022-03-27T13:36:52.209375</td>\n      <td>8.0</td>\n      <td>8.0</td>\n    </tr>\n    <tr>\n      <th>3836</th>\n      <td>624066cd5c796c58d2610d28</td>\n      <td>treatment</td>\n      <td>1</td>\n      <td>2.0</td>\n      <td>NaN</td>\n      <td>2022-03-27T13:31:45.265256</td>\n      <td>2022-03-27T13:33:45.834007</td>\n      <td>1.0</td>\n      <td>1.0</td>\n    </tr>\n    <tr>\n      <th>3837</th>\n      <td>62406ea45c796c58d270c4d0</td>\n      <td>control</td>\n      <td>0</td>\n      <td>15.0</td>\n      <td>2022-03-27T14:07:23.685258</td>\n      <td>2022-03-27T14:03:59.569052</td>\n      <td>2022-03-27T14:15:05.201592</td>\n      <td>5.0</td>\n      <td>5.0</td>\n    </tr>\n    <tr>\n      <th>3838</th>\n      <td>62406edb5c796c58d271302f</td>\n      <td>control</td>\n      <td>0</td>\n      <td>4.0</td>\n      <td>NaN</td>\n      <td>2022-03-27T14:04:41.204531</td>\n      <td>2022-03-27T14:05:24.777815</td>\n      <td>3.0</td>\n      <td>3.0</td>\n    </tr>\n  </tbody>\n</table>\n<p>3839 rows × 9 columns</p>\n</div>"
     },
     "execution_count": 3,
     "metadata": {},
     "output_type": "execute_result"
    }
   ],
   "source": [
    "user_df"
   ],
   "metadata": {
    "collapsed": false,
    "pycharm": {
     "name": "#%%\n"
    }
   }
  },
  {
   "cell_type": "markdown",
   "source": [
    "# Randomization Checks"
   ],
   "metadata": {
    "collapsed": false,
    "pycharm": {
     "name": "#%% md\n"
    }
   }
  },
  {
   "cell_type": "code",
   "execution_count": 4,
   "outputs": [
    {
     "data": {
      "text/plain": "is_mobile  group    \n0          control       670\n           treatment     627\n1          control      1289\n           treatment    1253\nName: user_uid, dtype: int64"
     },
     "execution_count": 4,
     "metadata": {},
     "output_type": "execute_result"
    }
   ],
   "source": [
    "user_df.groupby(['is_mobile', 'group'])['user_uid'].count()"
   ],
   "metadata": {
    "collapsed": false,
    "pycharm": {
     "name": "#%%\n"
    }
   }
  },
  {
   "cell_type": "markdown",
   "metadata": {
    "pycharm": {
     "name": "#%% md\n"
    }
   },
   "source": [
    "# Clicks\n",
    "\n",
    "**Do consumers interact with the recommender carousel?**"
   ]
  },
  {
   "cell_type": "code",
   "execution_count": 5,
   "metadata": {
    "pycharm": {
     "name": "#%%\n"
    }
   },
   "outputs": [],
   "source": [
    "click_df = evidence_df[evidence_df['name']=='click']"
   ]
  },
  {
   "cell_type": "code",
   "execution_count": 6,
   "metadata": {
    "pycharm": {
     "name": "#%%\n"
    }
   },
   "outputs": [
    {
     "data": {
      "text/plain": "                     count    duration\nis_mobile group                       \n0         control       83   31.281365\n          treatment    187  354.603921\n1         control      234   16.638674\n          treatment    434   23.406646",
      "text/html": "<div>\n<style scoped>\n    .dataframe tbody tr th:only-of-type {\n        vertical-align: middle;\n    }\n\n    .dataframe tbody tr th {\n        vertical-align: top;\n    }\n\n    .dataframe thead th {\n        text-align: right;\n    }\n</style>\n<table border=\"1\" class=\"dataframe\">\n  <thead>\n    <tr style=\"text-align: right;\">\n      <th></th>\n      <th></th>\n      <th>count</th>\n      <th>duration</th>\n    </tr>\n    <tr>\n      <th>is_mobile</th>\n      <th>group</th>\n      <th></th>\n      <th></th>\n    </tr>\n  </thead>\n  <tbody>\n    <tr>\n      <th rowspan=\"2\" valign=\"top\">0</th>\n      <th>control</th>\n      <td>83</td>\n      <td>31.281365</td>\n    </tr>\n    <tr>\n      <th>treatment</th>\n      <td>187</td>\n      <td>354.603921</td>\n    </tr>\n    <tr>\n      <th rowspan=\"2\" valign=\"top\">1</th>\n      <th>control</th>\n      <td>234</td>\n      <td>16.638674</td>\n    </tr>\n    <tr>\n      <th>treatment</th>\n      <td>434</td>\n      <td>23.406646</td>\n    </tr>\n  </tbody>\n</table>\n</div>"
     },
     "execution_count": 6,
     "metadata": {},
     "output_type": "execute_result"
    }
   ],
   "source": [
    "click_df.groupby(['is_mobile', 'group'])['duration'].agg(count= 'count', duration='mean')"
   ]
  },
  {
   "cell_type": "markdown",
   "metadata": {
    "pycharm": {
     "name": "#%% md\n"
    }
   },
   "source": [
    "> Consumers click on product carousel items more often when they come from a recommender system (i.e. higher click through rate). The time from product page view until click takes longer in the treatment group.\n",
    "\n",
    "However, there is an extreme outlier. This might be the case of a user that stays long time inactive on the page and clicks after inactivity."
   ]
  },
  {
   "cell_type": "code",
   "execution_count": 7,
   "metadata": {
    "pycharm": {
     "name": "#%%\n"
    }
   },
   "outputs": [
    {
     "data": {
      "text/plain": "count      938.000000\nmean        88.442666\nstd       2021.276256\nmin          1.407200\n25%          8.155200\n50%         12.763300\n75%         20.204175\nmax      61882.230000\nName: duration, dtype: float64"
     },
     "execution_count": 7,
     "metadata": {},
     "output_type": "execute_result"
    },
    {
     "data": {
      "text/plain": "<Figure size 432x288 with 1 Axes>",
      "image/png": "[encoded data removed]"
     },
     "metadata": {
      "needs_background": "light"
     },
     "output_type": "display_data"
    }
   ],
   "source": [
    "_ = plt.boxplot(click_df.duration)\n",
    "click_df['duration'].describe()"
   ]
  },
  {
   "cell_type": "code",
   "execution_count": 8,
   "metadata": {
    "pycharm": {
     "name": "#%%\n"
    }
   },
   "outputs": [
    {
     "data": {
      "text/plain": "                     n_clicks  avg_duration\nis_mobile group                            \n0         control          82     18.933621\n          treatment       184     17.250854\n1         control         234     16.638674\n          treatment       432     17.857893",
      "text/html": "<div>\n<style scoped>\n    .dataframe tbody tr th:only-of-type {\n        vertical-align: middle;\n    }\n\n    .dataframe tbody tr th {\n        vertical-align: top;\n    }\n\n    .dataframe thead th {\n        text-align: right;\n    }\n</style>\n<table border=\"1\" class=\"dataframe\">\n  <thead>\n    <tr style=\"text-align: right;\">\n      <th></th>\n      <th></th>\n      <th>n_clicks</th>\n      <th>avg_duration</th>\n    </tr>\n    <tr>\n      <th>is_mobile</th>\n      <th>group</th>\n      <th></th>\n      <th></th>\n    </tr>\n  </thead>\n  <tbody>\n    <tr>\n      <th rowspan=\"2\" valign=\"top\">0</th>\n      <th>control</th>\n      <td>82</td>\n      <td>18.933621</td>\n    </tr>\n    <tr>\n      <th>treatment</th>\n      <td>184</td>\n      <td>17.250854</td>\n    </tr>\n    <tr>\n      <th rowspan=\"2\" valign=\"top\">1</th>\n      <th>control</th>\n      <td>234</td>\n      <td>16.638674</td>\n    </tr>\n    <tr>\n      <th>treatment</th>\n      <td>432</td>\n      <td>17.857893</td>\n    </tr>\n  </tbody>\n</table>\n</div>"
     },
     "execution_count": 8,
     "metadata": {},
     "output_type": "execute_result"
    },
    {
     "data": {
      "text/plain": "<Figure size 432x288 with 1 Axes>",
      "image/png": "[encoded data removed]"
     },
     "metadata": {
      "needs_background": "light"
     },
     "output_type": "display_data"
    }
   ],
   "source": [
    "click_df = click_df[click_df['duration']<300]\n",
    "_ = plt.hist(click_df.duration, bins=50)\n",
    "_ = plt.title('Duration until click')\n",
    "click_df.groupby(['is_mobile', 'group'])['duration'].agg(n_clicks='count', avg_duration='mean')"
   ]
  },
  {
   "cell_type": "markdown",
   "metadata": {
    "pycharm": {
     "name": "#%% md\n"
    }
   },
   "source": [
    "-> I removed this user from click dataset, therefore should be removed generally. Better: **winsorize**"
   ]
  },
  {
   "cell_type": "markdown",
   "metadata": {
    "pycharm": {
     "name": "#%% md\n"
    }
   },
   "source": [
    "# Order\n",
    "**How does the recommender system influence conversion rate?**"
   ]
  },
  {
   "cell_type": "code",
   "execution_count": 9,
   "metadata": {
    "pycharm": {
     "name": "#%%\n"
    }
   },
   "outputs": [
    {
     "data": {
      "text/plain": "is_mobile  group    \n0          control      50\n           treatment    33\n1          control      32\n           treatment    43\nName: name, dtype: int64"
     },
     "execution_count": 9,
     "metadata": {},
     "output_type": "execute_result"
    }
   ],
   "source": [
    "order_df.groupby(['is_mobile', 'group'])['name'].count()"
   ]
  },
  {
   "cell_type": "markdown",
   "metadata": {
    "pycharm": {
     "name": "#%% md\n"
    }
   },
   "source": [
    "> Higher conversion rate in control group on desktop - mobile vice versa.\n",
    "\n",
    "**How does the recommender system influence the purchase amount?**"
   ]
  },
  {
   "cell_type": "code",
   "execution_count": 10,
   "metadata": {
    "pycharm": {
     "name": "#%%\n"
    }
   },
   "outputs": [
    {
     "data": {
      "text/plain": "<Figure size 432x288 with 1 Axes>",
      "image/png": "[encoded data removed]"
     },
     "metadata": {
      "needs_background": "light"
     },
     "output_type": "display_data"
    }
   ],
   "source": [
    "_ = plt.hist(order_df['order_total_price'], bins=20)\n",
    "_ = plt.title('Order Total Price')"
   ]
  },
  {
   "cell_type": "code",
   "execution_count": 11,
   "metadata": {
    "pycharm": {
     "name": "#%%\n"
    }
   },
   "outputs": [
    {
     "data": {
      "text/plain": "is_mobile  group    \n0          control      53.141800\n           treatment    54.351212\n1          control      51.262500\n           treatment    54.805581\nName: order_total_price, dtype: float64"
     },
     "execution_count": 11,
     "metadata": {},
     "output_type": "execute_result"
    }
   ],
   "source": [
    "order_df.groupby(['is_mobile', 'group'])['order_total_price'].mean()"
   ]
  },
  {
   "cell_type": "code",
   "execution_count": 12,
   "metadata": {
    "pycharm": {
     "name": "#%%\n"
    }
   },
   "outputs": [
    {
     "data": {
      "text/plain": "<Figure size 432x288 with 1 Axes>",
      "image/png": "[encoded data removed]"
     },
     "metadata": {
      "needs_background": "light"
     },
     "output_type": "display_data"
    }
   ],
   "source": [
    "_ = plt.boxplot([\n",
    "    order_df[(order_df['is_mobile']==1) & (order_df['group']=='control')]['order_total_price'],\n",
    "    order_df[(order_df['is_mobile']==1) & (order_df['group']=='treatment')]['order_total_price']\n",
    "    ])\n",
    "_ = plt.xticks([1, 2], ['control', 'treatment'])\n",
    "_ = plt.title('Order Total Price (mobile)')"
   ]
  },
  {
   "cell_type": "markdown",
   "metadata": {
    "pycharm": {
     "name": "#%% md\n"
    }
   },
   "source": [
    "# Order Entries\n",
    "\n",
    "**How many same products do customers have in their cart on average?**"
   ]
  },
  {
   "cell_type": "code",
   "execution_count": 13,
   "metadata": {
    "pycharm": {
     "name": "#%%\n"
    }
   },
   "outputs": [
    {
     "data": {
      "text/plain": "is_mobile  group    \n0          control      1.398148\n           treatment    1.207792\n1          control      1.104478\n           treatment    1.651685\nName: quantity, dtype: float64"
     },
     "execution_count": 13,
     "metadata": {},
     "output_type": "execute_result"
    }
   ],
   "source": [
    "order_entry_df.groupby(['is_mobile', 'group'])['quantity'].mean()"
   ]
  },
  {
   "cell_type": "markdown",
   "metadata": {
    "pycharm": {
     "name": "#%% md\n"
    }
   },
   "source": [
    "**How many different products are included in a cart?**"
   ]
  },
  {
   "cell_type": "code",
   "execution_count": 14,
   "metadata": {
    "pycharm": {
     "name": "#%%\n"
    }
   },
   "outputs": [
    {
     "data": {
      "text/plain": "is_mobile  group    \n0          control      2.260000\n           treatment    2.333333\n1          control      2.187500\n           treatment    2.186047\nName: entry_qty, dtype: float64"
     },
     "execution_count": 14,
     "metadata": {},
     "output_type": "execute_result"
    }
   ],
   "source": [
    "order_df.groupby(['is_mobile', 'group'])['entry_qty'].mean()"
   ]
  },
  {
   "cell_type": "code",
   "execution_count": 15,
   "metadata": {
    "pycharm": {
     "name": "#%%\n"
    }
   },
   "outputs": [
    {
     "data": {
      "text/plain": "<Figure size 1080x360 with 2 Axes>",
      "image/png": "[encoded data removed]"
     },
     "metadata": {
      "needs_background": "light"
     },
     "output_type": "display_data"
    }
   ],
   "source": [
    "fig, axs = plt.subplots(1, 2, figsize=(15,5))\n",
    "_ = axs[0].hist(order_df.entry_qty, bins=50)\n",
    "_ = axs[1].hist(order_df[order_df['group']=='control'].entry_qty, bins=50, alpha=.4)\n",
    "_ = axs[1].hist(order_df[order_df['group']=='treatment'].entry_qty, bins=50, alpha=.4)\n",
    "_ = axs[0].set_title('Number of cart entries')\n",
    "_ = axs[1].set_title('Number of cart entries')\n",
    "_ = axs[1].legend(['control', 'treatment'])"
   ]
  },
  {
   "cell_type": "markdown",
   "metadata": {
    "pycharm": {
     "name": "#%% md\n"
    }
   },
   "source": [
    "# Search Behavior\n",
    "\n",
    "**How many times do users use the \"category search\"**?"
   ]
  },
  {
   "cell_type": "code",
   "execution_count": 16,
   "metadata": {
    "pycharm": {
     "name": "#%%\n"
    }
   },
   "outputs": [
    {
     "data": {
      "text/plain": "is_mobile  group    \n0          control       5666.0\n           treatment     4891.0\n1          control      10266.0\n           treatment     9111.0\nName: n_category_search, dtype: float64"
     },
     "execution_count": 16,
     "metadata": {},
     "output_type": "execute_result"
    }
   ],
   "source": [
    "user_df.groupby(['is_mobile', 'group'])['n_category_search'].sum()"
   ]
  },
  {
   "cell_type": "markdown",
   "metadata": {
    "pycharm": {
     "name": "#%% md\n"
    }
   },
   "source": [
    "*Hypothesis: On mobile devices recommender systems reduce the search costs & lead to higher revenues.*\n",
    "\n",
    "Critique: RS is just a carousel that suggest categorical products. Why not simply showing a list of top category products?\n",
    "\n",
    "# (Category) Search per Customer"
   ]
  },
  {
   "cell_type": "code",
   "execution_count": 17,
   "metadata": {
    "pycharm": {
     "name": "#%%\n"
    }
   },
   "outputs": [
    {
     "data": {
      "text/plain": "is_mobile  group    \n0          control      11.755187\n           treatment    10.893096\n1          control      11.868208\n           treatment    11.110976\nName: n_category_search, dtype: float64"
     },
     "execution_count": 17,
     "metadata": {},
     "output_type": "execute_result"
    }
   ],
   "source": [
    "user_df.groupby(['is_mobile', 'group'])['n_category_search'].mean()"
   ]
  },
  {
   "cell_type": "code",
   "execution_count": 18,
   "outputs": [
    {
     "data": {
      "text/plain": "is_mobile  group    \n0          control      12.827586\n           treatment    12.268222\n1          control      13.242089\n           treatment    12.423345\nName: n_category_search, dtype: float64"
     },
     "execution_count": 18,
     "metadata": {},
     "output_type": "execute_result"
    }
   ],
   "source": [
    "user_df[user_df.t_first_reco_view.notna()].groupby(['is_mobile', 'group'])['n_category_search'].mean()"
   ],
   "metadata": {
    "collapsed": false,
    "pycharm": {
     "name": "#%%\n"
    }
   }
  },
  {
   "cell_type": "code",
   "execution_count": 19,
   "metadata": {
    "pycharm": {
     "name": "#%%\n"
    }
   },
   "outputs": [
    {
     "data": {
      "text/plain": "<Figure size 432x288 with 1 Axes>",
      "image/png": "[encoded data removed]"
     },
     "metadata": {
      "needs_background": "light"
     },
     "output_type": "display_data"
    }
   ],
   "source": [
    "_ = plt.hist(user_df[user_df['group']=='control']['n_category_search'], bins=50, alpha=.6)\n",
    "_ = plt.hist(user_df[user_df['group']=='treatment']['n_category_search'], bins=50, alpha=.6)\n",
    "_ = plt.title('Number of Category Page Queries per User')\n",
    "_ = plt.legend(['control', 'treatment'])"
   ]
  },
  {
   "cell_type": "markdown",
   "source": [
    "# Consideration Set"
   ],
   "metadata": {
    "collapsed": false,
    "pycharm": {
     "name": "#%% md\n"
    }
   }
  },
  {
   "cell_type": "code",
   "execution_count": 20,
   "outputs": [
    {
     "data": {
      "text/plain": "                         mean\nis_mobile group              \n0         control    3.808140\n          treatment  4.065957\n1         control    3.756912\n          treatment  3.734839",
      "text/html": "<div>\n<style scoped>\n    .dataframe tbody tr th:only-of-type {\n        vertical-align: middle;\n    }\n\n    .dataframe tbody tr th {\n        vertical-align: top;\n    }\n\n    .dataframe thead th {\n        text-align: right;\n    }\n</style>\n<table border=\"1\" class=\"dataframe\">\n  <thead>\n    <tr style=\"text-align: right;\">\n      <th></th>\n      <th></th>\n      <th>mean</th>\n    </tr>\n    <tr>\n      <th>is_mobile</th>\n      <th>group</th>\n      <th></th>\n    </tr>\n  </thead>\n  <tbody>\n    <tr>\n      <th rowspan=\"2\" valign=\"top\">0</th>\n      <th>control</th>\n      <td>3.808140</td>\n    </tr>\n    <tr>\n      <th>treatment</th>\n      <td>4.065957</td>\n    </tr>\n    <tr>\n      <th rowspan=\"2\" valign=\"top\">1</th>\n      <th>control</th>\n      <td>3.756912</td>\n    </tr>\n    <tr>\n      <th>treatment</th>\n      <td>3.734839</td>\n    </tr>\n  </tbody>\n</table>\n</div>"
     },
     "execution_count": 20,
     "metadata": {},
     "output_type": "execute_result"
    }
   ],
   "source": [
    "user_df[user_df.t_first_reco_view.notna()].groupby(['is_mobile', 'group'])['css'].agg(mean='mean')"
   ],
   "metadata": {
    "collapsed": false,
    "pycharm": {
     "name": "#%%\n"
    }
   }
  },
  {
   "cell_type": "code",
   "execution_count": 21,
   "outputs": [
    {
     "data": {
      "text/plain": "                      user_uid      group  is_mobile  n_category_search  \\\n0     6222885b81ece9c26d146eff  treatment          1                NaN   \n1     6222886181ece9c26d147a81    control          1                7.0   \n2     6222889381ece9c26d14d605    control          0                NaN   \n3     62228a9481ece9c26d188866  treatment          1                NaN   \n4     62228af781ece9c26d196216    control          0                NaN   \n...                        ...        ...        ...                ...   \n3834  624061155c796c58d255fd46  treatment          1                5.0   \n3835  624065685c796c58d25e4997    control          1               24.0   \n3836  624066cd5c796c58d2610d28  treatment          1                2.0   \n3837  62406ea45c796c58d270c4d0    control          0               15.0   \n3838  62406edb5c796c58d271302f    control          0                4.0   \n\n               t_first_reco_view                         t_0  \\\n0     2022-03-04T21:45:05.603683  2022-03-04T21:44:59.682979   \n1     2022-03-04T21:45:25.651769  2022-03-04T21:45:19.727756   \n2     2022-03-04T21:52:36.124108  2022-03-04T21:47:55.546127   \n3     2022-03-04T21:54:51.169093  2022-03-04T21:54:28.623894   \n4                            NaN  2022-03-04T21:56:57.347037   \n...                          ...                         ...   \n3834  2022-03-27T13:08:47.633155  2022-03-27T13:05:26.369917   \n3835  2022-03-27T13:27:21.361738  2022-03-27T13:25:56.911896   \n3836                         NaN  2022-03-27T13:31:45.265256   \n3837  2022-03-27T14:07:23.685258  2022-03-27T14:03:59.569052   \n3838                         NaN  2022-03-27T14:04:41.204531   \n\n                             t_T  product_views  css  \n0     2022-03-04T21:45:17.326452            1.0  1.0  \n1     2022-03-09T21:52:08.377106            7.0  6.0  \n2     2022-03-04T21:53:47.198043            6.0  6.0  \n3     2022-03-05T08:07:14.239020            6.0  5.0  \n4     2022-03-04T21:57:07.823967            2.0  2.0  \n...                          ...            ...  ...  \n3834  2022-03-27T14:02:51.457710            3.0  2.0  \n3835  2022-03-27T13:36:52.209375            8.0  8.0  \n3836  2022-03-27T13:33:45.834007            1.0  1.0  \n3837  2022-03-27T14:15:05.201592            5.0  5.0  \n3838  2022-03-27T14:05:24.777815            3.0  3.0  \n\n[3839 rows x 9 columns]",
      "text/html": "<div>\n<style scoped>\n    .dataframe tbody tr th:only-of-type {\n        vertical-align: middle;\n    }\n\n    .dataframe tbody tr th {\n        vertical-align: top;\n    }\n\n    .dataframe thead th {\n        text-align: right;\n    }\n</style>\n<table border=\"1\" class=\"dataframe\">\n  <thead>\n    <tr style=\"text-align: right;\">\n      <th></th>\n      <th>user_uid</th>\n      <th>group</th>\n      <th>is_mobile</th>\n      <th>n_category_search</th>\n      <th>t_first_reco_view</th>\n      <th>t_0</th>\n      <th>t_T</th>\n      <th>product_views</th>\n      <th>css</th>\n    </tr>\n  </thead>\n  <tbody>\n    <tr>\n      <th>0</th>\n      <td>6222885b81ece9c26d146eff</td>\n      <td>treatment</td>\n      <td>1</td>\n      <td>NaN</td>\n      <td>2022-03-04T21:45:05.603683</td>\n      <td>2022-03-04T21:44:59.682979</td>\n      <td>2022-03-04T21:45:17.326452</td>\n      <td>1.0</td>\n      <td>1.0</td>\n    </tr>\n    <tr>\n      <th>1</th>\n      <td>6222886181ece9c26d147a81</td>\n      <td>control</td>\n      <td>1</td>\n      <td>7.0</td>\n      <td>2022-03-04T21:45:25.651769</td>\n      <td>2022-03-04T21:45:19.727756</td>\n      <td>2022-03-09T21:52:08.377106</td>\n      <td>7.0</td>\n      <td>6.0</td>\n    </tr>\n    <tr>\n      <th>2</th>\n      <td>6222889381ece9c26d14d605</td>\n      <td>control</td>\n      <td>0</td>\n      <td>NaN</td>\n      <td>2022-03-04T21:52:36.124108</td>\n      <td>2022-03-04T21:47:55.546127</td>\n      <td>2022-03-04T21:53:47.198043</td>\n      <td>6.0</td>\n      <td>6.0</td>\n    </tr>\n    <tr>\n      <th>3</th>\n      <td>62228a9481ece9c26d188866</td>\n      <td>treatment</td>\n      <td>1</td>\n      <td>NaN</td>\n      <td>2022-03-04T21:54:51.169093</td>\n      <td>2022-03-04T21:54:28.623894</td>\n      <td>2022-03-05T08:07:14.239020</td>\n      <td>6.0</td>\n      <td>5.0</td>\n    </tr>\n    <tr>\n      <th>4</th>\n      <td>62228af781ece9c26d196216</td>\n      <td>control</td>\n      <td>0</td>\n      <td>NaN</td>\n      <td>NaN</td>\n      <td>2022-03-04T21:56:57.347037</td>\n      <td>2022-03-04T21:57:07.823967</td>\n      <td>2.0</td>\n      <td>2.0</td>\n    </tr>\n    <tr>\n      <th>...</th>\n      <td>...</td>\n      <td>...</td>\n      <td>...</td>\n      <td>...</td>\n      <td>...</td>\n      <td>...</td>\n      <td>...</td>\n      <td>...</td>\n      <td>...</td>\n    </tr>\n    <tr>\n      <th>3834</th>\n      <td>624061155c796c58d255fd46</td>\n      <td>treatment</td>\n      <td>1</td>\n      <td>5.0</td>\n      <td>2022-03-27T13:08:47.633155</td>\n      <td>2022-03-27T13:05:26.369917</td>\n      <td>2022-03-27T14:02:51.457710</td>\n      <td>3.0</td>\n      <td>2.0</td>\n    </tr>\n    <tr>\n      <th>3835</th>\n      <td>624065685c796c58d25e4997</td>\n      <td>control</td>\n      <td>1</td>\n      <td>24.0</td>\n      <td>2022-03-27T13:27:21.361738</td>\n      <td>2022-03-27T13:25:56.911896</td>\n      <td>2022-03-27T13:36:52.209375</td>\n      <td>8.0</td>\n      <td>8.0</td>\n    </tr>\n    <tr>\n      <th>3836</th>\n      <td>624066cd5c796c58d2610d28</td>\n      <td>treatment</td>\n      <td>1</td>\n      <td>2.0</td>\n      <td>NaN</td>\n      <td>2022-03-27T13:31:45.265256</td>\n      <td>2022-03-27T13:33:45.834007</td>\n      <td>1.0</td>\n      <td>1.0</td>\n    </tr>\n    <tr>\n      <th>3837</th>\n      <td>62406ea45c796c58d270c4d0</td>\n      <td>control</td>\n      <td>0</td>\n      <td>15.0</td>\n      <td>2022-03-27T14:07:23.685258</td>\n      <td>2022-03-27T14:03:59.569052</td>\n      <td>2022-03-27T14:15:05.201592</td>\n      <td>5.0</td>\n      <td>5.0</td>\n    </tr>\n    <tr>\n      <th>3838</th>\n      <td>62406edb5c796c58d271302f</td>\n      <td>control</td>\n      <td>0</td>\n      <td>4.0</td>\n      <td>NaN</td>\n      <td>2022-03-27T14:04:41.204531</td>\n      <td>2022-03-27T14:05:24.777815</td>\n      <td>3.0</td>\n      <td>3.0</td>\n    </tr>\n  </tbody>\n</table>\n<p>3839 rows × 9 columns</p>\n</div>"
     },
     "execution_count": 21,
     "metadata": {},
     "output_type": "execute_result"
    }
   ],
   "source": [
    "user_df"
   ],
   "metadata": {
    "collapsed": false,
    "pycharm": {
     "name": "#%%\n"
    }
   }
  }
 ],
 "metadata": {
  "kernelspec": {
   "display_name": "Python 3 (ipykernel)",
   "language": "python",
   "name": "python3"
  },
  "language_info": {
   "codemirror_mode": {
    "name": "ipython",
    "version": 3
   },
   "file_extension": ".py",
   "mimetype": "text/x-python",
   "name": "python",
   "nbconvert_exporter": "python",
   "pygments_lexer": "ipython3",
   "version": "3.10.2"
  }
 },
 "nbformat": 4,
 "nbformat_minor": 1
}